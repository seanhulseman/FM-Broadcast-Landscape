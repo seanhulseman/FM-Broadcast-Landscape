{
 "cells": [
  {
   "cell_type": "markdown",
   "metadata": {},
   "source": [
    "## FM Landscape Application\n",
    "#### Attempting to affect change via optimized targeted messaging delivery to savvy-political-ad-evasive-populations in key locations for the upcoming 2024 election\n",
    "\n",
    "\n",
    "The data obtained, prepared, and labeled from the FCC FM Radio Query in the previous notebook has numerous potential applications. This notebook focuses on addressing the following problem: Can the FM landscape serve as a tool to identify and target political messaging campaigns for the upcoming 2024 election in a manner that produces a meaningful positive impact in crucial locations while minimizing misspent funds?\n",
    "\n",
    "\n",
    "### Physics\n",
    "Exploring the physical aspects of FM transmission raises critical questions:\n",
    "- How can one predict if a station's signal will be heard in any given location at any given time?\n",
    "- What role do factors do the features such as Effective Radiated Power, Height above average terrain (HAAT), Radiation Center Above Mean Sea Level(RCAMSL), and others play in determining signal strength as distance increases from transmitter to receiver?\n",
    "- At what signal threshold does one station override another when both have line-of-sight to the same receiver? When does the signal degrade into white noise or become choppy?\n",
    "\n",
    "\n",
    "Considerations:\n",
    "- The curvature of the Earth limits line-of-sight distances, even at considerable heights.\n",
    "- Topographic features like valleys, hills, tunnels, and buildings can obstruct signals, posing persistent challenges.\n",
    "- Phenomena such as forest fires can temporarily enhance signal range.\n",
    "\n",
    "\n",
    "### Sociological and Political Applications\n",
    "Understanding societal and political implications:\n",
    "- Commuting habits influence radio usage, with longer commutes correlating with increased exposure to messaging.\n",
    "- Clustering methods may reveal patterns within the media landscapes of key locations showing opportunities to expand or adjust messaging campaigns (I can think of many other applications but those are for a different notebook!).\n",
    "  \n",
    "Future explorations:\n",
    "- Cataloging additional information about stations through web scraping or APIs could aid in clustering and targeting messaging campaigns.\n",
    "- Grouping stations by owner and analyzing their characteristics may provide valuable insights.\n",
    "- Utilizing NLP to analyze station ownership names for affiliations and audience demographics.\n",
    "\n",
    "\n",
    "These considerations lay the groundwork for exploring the multifaceted applications of FM landscape data in political messaging campaigns and societal analysis."
   ]
  },
  {
   "cell_type": "markdown",
   "metadata": {},
   "source": [
    "### Next Steps\n",
    "\n",
    "To begin the next phase of the project:\n",
    "\n",
    "- **Find Location and Demographic Data**: Obtain location and demographic data for population and geographic areas of interest. I have data provided by simple maps data with GPS coordinates, city, state, county FIPS codes, population, density, military base information, time zone, ranking, and zip codes. This may prove sufficient\n",
    "\n",
    "- **Build and Utilize Analysis Tool**: Develop a tool to analyze the FM landscape of specific districts, counties, and states as a proof of concept. Document any research conducted during this process and aim to automate the analysis for radio stations. Explore what this process looks like for a single city, with potential scalability to analyze multiple cities.\n",
    "\n",
    "- **Investigate Networked Transmitter Reach**: Determine the extent of the reach of networked transmitters and evaluate their impact on messaging effectiveness.\n",
    "\n",
    "- **Explore Diversity in FM Landscape**: Develop a plan to investigate the diversity within the FM landscape. What are the listener rates? How big, affluent, diverse, etc. is this audience estimated to be? What are the FM landscape dynamics such as formation, dissolution, and churn rate in targeted areas. I am considering grouping stations by education versus commercial, understanding that both groups contain the target population with varying receptivity levels based on messaging strategy. We must acknowledge the sensitivity and potential backlash of messaging campaigns, emphasizing the importance of tactful communication to avoid detrimental blowback.\n",
    "\n",
    "- **Research Booster/Translator Stations**: Investigate methods to link booster/translator stations to primary stations. Consider if this granular level of analysis can be applied at the station level. For example, analyze if boosting signals extends reach to specific key areas differentiated messaging to individual boosters during ad breaks could be effective - If at all possible. \n",
    "\n",
    "These steps will guide the project towards a deeper understanding of the FM landscape and its potential implications for targeted messaging campaigns.\n"
   ]
  },
  {
   "cell_type": "code",
   "execution_count": null,
   "metadata": {},
   "outputs": [],
   "source": []
  }
 ],
 "metadata": {
  "language_info": {
   "name": "python"
  }
 },
 "nbformat": 4,
 "nbformat_minor": 2
}
